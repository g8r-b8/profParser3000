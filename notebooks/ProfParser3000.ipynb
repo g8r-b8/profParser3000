{
 "cells": [
  {
   "cell_type": "code",
   "execution_count": 7,
   "id": "e74ff04c-ee6f-4f2a-a121-c92a71f9d148",
   "metadata": {},
   "outputs": [],
   "source": [
    "from utils import get_faculty_pages\n",
    "from utils.has_keywords import has_keywords\n",
    "\n",
    "import requests\n",
    "from tqdm.notebook import tqdm\n",
    "\n",
    "import pyspark\n",
    "from pyspark.sql import SparkSession"
   ]
  },
  {
   "cell_type": "code",
   "execution_count": 2,
   "id": "991fa61e-1995-4cff-a9c7-1984de5d540f",
   "metadata": {},
   "outputs": [
    {
     "name": "stderr",
     "output_type": "stream",
     "text": [
      "23/10/14 15:54:53 WARN Utils: Your hostname, g8rb8-desktop resolves to a loopback address: 127.0.1.1; using 192.168.0.48 instead (on interface enp8s0)\n",
      "23/10/14 15:54:53 WARN Utils: Set SPARK_LOCAL_IP if you need to bind to another address\n",
      "Setting default log level to \"WARN\".\n",
      "To adjust logging level use sc.setLogLevel(newLevel). For SparkR, use setLogLevel(newLevel).\n",
      "23/10/14 15:54:53 WARN NativeCodeLoader: Unable to load native-hadoop library for your platform... using builtin-java classes where applicable\n",
      "23/10/14 15:54:54 WARN Utils: Service 'SparkUI' could not bind on port 4040. Attempting port 4041.\n"
     ]
    }
   ],
   "source": [
    "spark = SparkSession.builder.appName(\"ProfParser3000\").getOrCreate()"
   ]
  },
  {
   "cell_type": "code",
   "execution_count": 12,
   "id": "7fc514cf-714a-4cc8-9e85-f4ba35fa49fa",
   "metadata": {},
   "outputs": [
    {
     "name": "stdout",
     "output_type": "stream",
     "text": [
      "Parsing: https://www.cs.columbia.edu/people/faculty/\n"
     ]
    }
   ],
   "source": [
    "cu_profs = get_faculty_pages.get_cu_cs_faculty(include_cv=True)"
   ]
  },
  {
   "cell_type": "code",
   "execution_count": 13,
   "id": "85f0828c-a93f-46e7-bb3a-d63cb0d0ae39",
   "metadata": {},
   "outputs": [
    {
     "data": {
      "text/plain": [
       "{'Columbia CS': ['http://www.cs.columbia.edu/~nowick/',\n",
       "  'http://www.cs.columbia.edu/~julia/files/cv.pdf',\n",
       "  'http://www.cs.columbia.edu/~blei',\n",
       "  'https://www.cs.columbia.edu/~xia',\n",
       "  'http://www.cs.columbia.edu/~xichen/',\n",
       "  'https://www.cs.columbia.edu/~wing/',\n",
       "  'http://www.cs.columbia.edu/~danr/',\n",
       "  'http://www.cs.columbia.edu/~kaiser/vita.html',\n",
       "  'http://www.cs.columbia.edu/~verma/',\n",
       "  'https://www.cs.columbia.edu/~rgu/RonghuiGu_files/ronghui-CV.pdf',\n",
       "  'http://www.cs.columbia.edu/~henryk/',\n",
       "  'http://www.cs.columbia.edu/~julia/',\n",
       "  'http://www.cs.columbia.edu/~itsik',\n",
       "  'http://www.cs.columbia.edu/~sal/',\n",
       "  'https://www.ee.columbia.edu/~sfchang/Shih-Fu%20Chang%20CV.pdf',\n",
       "  'http://www.cs.columbia.edu/~rocco',\n",
       "  'http://www.ee.columbia.edu/~sfchang',\n",
       "  'http://www.cs.columbia.edu/~feiner',\n",
       "  'http://www.cs.columbia.edu/~brian/',\n",
       "  'http://www.cs.columbia.edu/~bauer',\n",
       "  'http://www.cs.columbia.edu/~vondrick/',\n",
       "  'http://www.cs.columbia.edu/~martha/cv.pdf',\n",
       "  'http://www.cs.columbia.edu/~gross',\n",
       "  'https://www.cs.columbia.edu/~zemel/',\n",
       "  'http://www.cs.columbia.edu/~brian/Smith',\n",
       "  'http://www.cs.columbia.edu/~nowick/nowick-cv.pdf',\n",
       "  'http://www.cs.columbia.edu/~hgs/',\n",
       "  'http://www.cs.columbia.edu/~luca',\n",
       "  'http://www.mit.edu/~andoni/',\n",
       "  'http://www.cs.columbia.edu/~djhsu/cv.pdf',\n",
       "  'http://www.mit.edu/~andoni/andoni.pdf',\n",
       "  'http://www.cs.columbia.edu/~nieh/',\n",
       "  'http://www.cs.columbia.edu/~aho',\n",
       "  'http://www.cs.columbia.edu/~nayar/',\n",
       "  'https://www.cs.columbia.edu/~coffman',\n",
       "  'http://www.cs.columbia.edu/~allen/allen_cv_2020.pdf',\n",
       "  'http://www.cs.columbia.edu/~galil/',\n",
       "  'http://www.columbia.edu/~cs2035/',\n",
       "  'http://www.cs.columbia.edu/~cannon/CannonCV.pdf',\n",
       "  'http://www.cs.columbia.edu/~jae/',\n",
       "  'http://www.cs.columbia.edu/~hgs/resume/resume.pdf',\n",
       "  'https://www.cs.columbia.edu/~chilton/web/jobMaterials/Chilton-CV-Dec-2015.pdf',\n",
       "  'http://www.cs.columbia.edu/~vondrick/cv.pdf',\n",
       "  'http://www.cs.columbia.edu/~blei/blei_cv.pdf',\n",
       "  'http://www.cs.columbia.edu/~cxz/',\n",
       "  'https://www.cs.columbia.edu/~toni/',\n",
       "  'http://www.cs.columbia.edu/~sedwards/cv.pdf',\n",
       "  'http://www.cs.columbia.edu/~roxana',\n",
       "  'http://www.cs.columbia.edu/~waltz/',\n",
       "  'http://www.cs.columbia.edu/~gravano',\n",
       "  'http://www.cs.columbia.edu/~kathy/mckeown-vita.pdf',\n",
       "  'http://www.cs.columbia.edu/~gravano/vita.html',\n",
       "  'http://www.cs.columbia.edu/~jrk/',\n",
       "  'http://www.cs.columbia.edu/~allen',\n",
       "  'http://www.cs.cmu.edu/~wing/resume.html',\n",
       "  'http://www.cs.columbia.edu/~unger/',\n",
       "  'http://www.cs.columbia.edu/~kar/Web_CV_Kenneth_Ross_2020.pdf',\n",
       "  'https://www.cs.columbia.edu/~smb/cv.pdf',\n",
       "  'http://www.cs.columbia.edu/~misra/cv.pdf',\n",
       "  'https://www.cs.columbia.edu/~pblaer/',\n",
       "  'http://www.cs.columbia.edu/~augustin',\n",
       "  'http://www.cs.columbia.edu/~cannon',\n",
       "  'http://www.cs.columbia.edu/~rocco/CV/Servedio-CV.pdf',\n",
       "  'http://www.cs.columbia.edu/~traub/',\n",
       "  'https://www.cs.columbia.edu/~chilton',\n",
       "  'https://www.cs.columbia.edu/~pblaer/cv.txt',\n",
       "  'http://www.cs.columbia.edu/~yemini/',\n",
       "  'http://www.cs.columbia.edu/~misra',\n",
       "  'https://www.cs.columbia.edu/~smb',\n",
       "  'http://www.cs.columbia.edu/~ansaf/',\n",
       "  'http://www.cs.columbia.edu/~zhouyu/',\n",
       "  'https://www.cs.columbia.edu/~borowski/BrianBorowski-CV.pdf',\n",
       "  'http://www.cs.columbia.edu/~junfeng',\n",
       "  'http://www.cs.columbia.edu/~tal',\n",
       "  'http://www.cs.columbia.edu/~kar/',\n",
       "  'http://www.cs.columbia.edu/~mihalis',\n",
       "  'http://www.cs.columbia.edu/~kaiser',\n",
       "  'http://www.cs.columbia.edu/~martha/',\n",
       "  'http://www.cs.columbia.edu/~sedwards',\n",
       "  'http://www.cs.columbia.edu/~djhsu/',\n",
       "  'http://www.cs.columbia.edu/~jae/jae-cv.pdf',\n",
       "  'https://www.cs.columbia.edu/~xia/media/xz-cv.pdf',\n",
       "  'http://www.cs.columbia.edu/~augustin/chaintreau-resume.pdf',\n",
       "  'http://www.cs.columbia.edu/~simha',\n",
       "  'http://www.cs.columbia.edu/~tdear',\n",
       "  'http://www.cs.columbia.edu/~kathy/']}"
      ]
     },
     "execution_count": 13,
     "metadata": {},
     "output_type": "execute_result"
    }
   ],
   "source": [
    "cu_profs"
   ]
  },
  {
   "cell_type": "code",
   "execution_count": 14,
   "id": "7041de84-9086-4c33-a05f-26f6a55ec24f",
   "metadata": {},
   "outputs": [
    {
     "name": "stderr",
     "output_type": "stream",
     "text": [
      "                                                                                \r"
     ]
    },
    {
     "data": {
      "text/plain": [
       "['http://www.cs.columbia.edu/~blei',\n",
       " 'http://www.cs.columbia.edu/~vondrick/',\n",
       " 'http://www.cs.columbia.edu/~martha/cv.pdf',\n",
       " 'https://www.cs.columbia.edu/~zemel/',\n",
       " 'http://www.cs.columbia.edu/~brian/Smith',\n",
       " 'http://www.cs.columbia.edu/~nieh/',\n",
       " 'http://www.cs.columbia.edu/~aho',\n",
       " 'http://www.cs.columbia.edu/~cannon/CannonCV.pdf',\n",
       " 'http://www.cs.columbia.edu/~gravano',\n",
       " 'http://www.cs.columbia.edu/~gravano/vita.html',\n",
       " 'http://www.cs.columbia.edu/~jrk/',\n",
       " 'http://www.cs.cmu.edu/~wing/resume.html',\n",
       " 'https://www.cs.columbia.edu/~chilton',\n",
       " 'http://www.cs.columbia.edu/~tal',\n",
       " 'http://www.cs.columbia.edu/~kaiser',\n",
       " 'http://www.cs.columbia.edu/~martha/',\n",
       " 'http://www.cs.columbia.edu/~djhsu/',\n",
       " 'http://www.cs.columbia.edu/~jae/jae-cv.pdf']"
      ]
     },
     "execution_count": 14,
     "metadata": {},
     "output_type": "execute_result"
    }
   ],
   "source": [
    "has_keywords(spark, cu_profs['Columbia CS'], ['Google'])"
   ]
  },
  {
   "cell_type": "code",
   "execution_count": 11,
   "id": "f5708db2-bac6-44ec-8050-1570c86bb8b4",
   "metadata": {},
   "outputs": [
    {
     "name": "stderr",
     "output_type": "stream",
     "text": [
      "                                                                                \r"
     ]
    },
    {
     "data": {
      "text/plain": [
       "['http://www.cs.columbia.edu/~sedwards']"
      ]
     },
     "execution_count": 11,
     "metadata": {},
     "output_type": "execute_result"
    }
   ],
   "source": [
    "has_keywords(spark, cu_profs['Columbia CS'], ['Assembly'])"
   ]
  },
  {
   "cell_type": "code",
   "execution_count": 15,
   "id": "9e800ac1-bc8c-4269-9a78-a176a5173271",
   "metadata": {},
   "outputs": [
    {
     "name": "stderr",
     "output_type": "stream",
     "text": [
      "                                                                                \r"
     ]
    },
    {
     "data": {
      "text/plain": [
       "['http://www.cs.columbia.edu/~sedwards']"
      ]
     },
     "execution_count": 15,
     "metadata": {},
     "output_type": "execute_result"
    }
   ],
   "source": [
    "has_keywords(spark, cu_profs['Columbia CS'], ['Assembly'])"
   ]
  },
  {
   "cell_type": "code",
   "execution_count": 16,
   "id": "5732acd3-4b94-45dc-bc52-f8cf568837ab",
   "metadata": {},
   "outputs": [
    {
     "name": "stderr",
     "output_type": "stream",
     "text": [
      "                                                                                \r"
     ]
    },
    {
     "data": {
      "text/plain": [
       "['http://www.cs.cmu.edu/~wing/resume.html']"
      ]
     },
     "execution_count": 16,
     "metadata": {},
     "output_type": "execute_result"
    }
   ],
   "source": [
    "has_keywords(spark, cu_profs['Columbia CS'], ['Quantitative'])"
   ]
  },
  {
   "cell_type": "code",
   "execution_count": null,
   "id": "fabf9e0a-b0d8-41b3-9124-6a3c72dc9d42",
   "metadata": {},
   "outputs": [],
   "source": []
  }
 ],
 "metadata": {
  "kernelspec": {
   "display_name": "Python 3 (ipykernel)",
   "language": "python",
   "name": "python3"
  },
  "language_info": {
   "codemirror_mode": {
    "name": "ipython",
    "version": 3
   },
   "file_extension": ".py",
   "mimetype": "text/x-python",
   "name": "python",
   "nbconvert_exporter": "python",
   "pygments_lexer": "ipython3",
   "version": "3.8.10"
  }
 },
 "nbformat": 4,
 "nbformat_minor": 5
}
